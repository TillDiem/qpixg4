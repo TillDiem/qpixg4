{
 "cells": [
  {
   "cell_type": "markdown",
   "id": "30860aa9",
   "metadata": {},
   "source": [
    "# Visualisation of the SiPM Readout - Event Based \n",
    "\n",
    "This shows the output for the clicked SiPM for a given event."
   ]
  },
  {
   "cell_type": "code",
   "execution_count": 1,
   "id": "9c32c0dc",
   "metadata": {},
   "outputs": [],
   "source": [
    "import uproot\n",
    "file_path = './single_electron_photons.root'\n",
    "f = uproot.open(file_path)\n",
    "#tree_scint = f[\"ScintSim_tree\"]\n",
    "tree_data = f[\"event_tree\"]\n",
    "tree_photon = f[\"photon_tree\"]\n",
    "#branches_scint = tree_scint.arrays()\n",
    "branches_data = tree_data.arrays()\n",
    "#branches_meta = tree_meta.arrays()\n",
    "branches_photon = tree_photon.arrays()"
   ]
  },
  {
   "cell_type": "markdown",
   "id": "a79795c3",
   "metadata": {},
   "source": [
    "To get the data for each event, call `time_vuv[event_nr][SiPM_id]`"
   ]
  },
  {
   "cell_type": "markdown",
   "id": "2ee28d12",
   "metadata": {},
   "source": [
    "Define the event you want to look at as `event_nr`"
   ]
  },
  {
   "cell_type": "code",
   "execution_count": 2,
   "id": "29f7964c",
   "metadata": {},
   "outputs": [],
   "source": [
    "event_nr = 0"
   ]
  },
  {
   "cell_type": "code",
   "execution_count": 17,
   "id": "a15102cb",
   "metadata": {},
   "outputs": [],
   "source": [
    "#time_vuv = branches_scint['total_time_vuv'][event_nr]\n",
    "hit_start_x = branches_photon['photon_final_x'][event_nr]\n",
    "hit_start_y = branches_photon['photon_final_y'][event_nr]\n",
    "hit_start_z = branches_photon['photon_final_z'][event_nr]\n",
    "hit_start_t = branches_photon['photon_final_t'][event_nr]"
   ]
  },
  {
   "cell_type": "code",
   "execution_count": 4,
   "id": "91fccb52",
   "metadata": {},
   "outputs": [],
   "source": []
  },
  {
   "cell_type": "code",
   "execution_count": 36,
   "id": "48f39e6f",
   "metadata": {},
   "outputs": [],
   "source": [
    "import matplotlib.pyplot as plt\n",
    "import numpy as np\n",
    "from mpl_toolkits import mplot3d\n",
    "import plotly.express as px\n",
    "import csv\n",
    "import plotly.graph_objects as go\n",
    "import plotly.io as pio\n",
    "pio.renderers.default = \"browser\"\n",
    "import pandas as pd"
   ]
  },
  {
   "cell_type": "markdown",
   "id": "00dab652",
   "metadata": {},
   "source": [
    "We have to add the hit entries to the things we plot in the Scatter plot, as we can only call it once"
   ]
  },
  {
   "cell_type": "code",
   "execution_count": 18,
   "id": "47340085",
   "metadata": {},
   "outputs": [],
   "source": [
    "x = hit_start_x.to_list()\n",
    "y = hit_start_y.to_list()\n",
    "z = hit_start_z.to_list()\n",
    "t = hit_start_t.to_list()"
   ]
  },
  {
   "cell_type": "code",
   "execution_count": 22,
   "id": "d82a8572",
   "metadata": {},
   "outputs": [
    {
     "data": {
      "text/plain": [
       "<mpl_toolkits.mplot3d.art3d.Path3DCollection at 0x7fe5d4cd05e0>"
      ]
     },
     "execution_count": 22,
     "metadata": {},
     "output_type": "execute_result"
    },
    {
     "data": {
      "image/png": "[encoded data removed]",
      "text/plain": [
       "<Figure size 432x288 with 1 Axes>"
      ]
     },
     "metadata": {
      "needs_background": "light"
     },
     "output_type": "display_data"
    }
   ],
   "source": [
    "\n",
    "ax = plt.axes(projection =\"3d\")\n",
    "ax.scatter3D(x[0:10],y[0:10],z[0:10],c=t[0:10])"
   ]
  },
  {
   "cell_type": "code",
   "execution_count": 21,
   "id": "5686b3bb",
   "metadata": {},
   "outputs": [
    {
     "ename": "NameError",
     "evalue": "name 'show' is not defined",
     "output_type": "error",
     "traceback": [
      "\u001b[0;31m---------------------------------------------------------------------------\u001b[0m",
      "\u001b[0;31mNameError\u001b[0m                                 Traceback (most recent call last)",
      "Input \u001b[0;32mIn [21]\u001b[0m, in \u001b[0;36m<cell line: 1>\u001b[0;34m()\u001b[0m\n\u001b[0;32m----> 1\u001b[0m \u001b[43mshow\u001b[49m()\n",
      "\u001b[0;31mNameError\u001b[0m: name 'show' is not defined"
     ]
    }
   ],
   "source": [
    "show()"
   ]
  },
  {
   "cell_type": "code",
   "execution_count": 29,
   "id": "1b6fb556",
   "metadata": {},
   "outputs": [],
   "source": [
    "n=100\n",
    "fig = go.FigureWidget(data=[go.Scatter3d(x=x[0:n], y=y[0:n], z=z[0:n],mode='markers')])\n",
    "\n",
    "scatter = fig.data[0]\n",
    "colors = t[0:n]\n",
    "scatter.marker.color = colors\n",
    "marker_size = [3] * (len(x))\n",
    "scatter.marker.size = marker_size\n",
    "scatter.marker.line.width = 0\n",
    "fig.layout.hovermode = 'closest'"
   ]
  },
  {
   "cell_type": "code",
   "execution_count": 32,
   "id": "3d511a04",
   "metadata": {},
   "outputs": [
    {
     "ename": "AttributeError",
     "evalue": "'FigureWidget' object has no attribute 'colorbar'",
     "output_type": "error",
     "traceback": [
      "\u001b[0;31m---------------------------------------------------------------------------\u001b[0m",
      "\u001b[0;31mAttributeError\u001b[0m                            Traceback (most recent call last)",
      "Input \u001b[0;32mIn [32]\u001b[0m, in \u001b[0;36m<cell line: 1>\u001b[0;34m()\u001b[0m\n\u001b[0;32m----> 1\u001b[0m \u001b[43mfig\u001b[49m\u001b[38;5;241;43m.\u001b[39;49m\u001b[43mcolorbar\u001b[49m()\n",
      "\u001b[0;31mAttributeError\u001b[0m: 'FigureWidget' object has no attribute 'colorbar'"
     ]
    }
   ],
   "source": [
    "fig = px.scatter_3d(df, x='sepal_length', y='sepal_width', z='petal_width',\n",
    "                    color='petal_length', symbol='species')\n",
    "fig.show()"
   ]
  },
  {
   "cell_type": "code",
   "execution_count": 51,
   "id": "eee76e00",
   "metadata": {},
   "outputs": [
    {
     "name": "stderr",
     "output_type": "stream",
     "text": [
      "11:50:15 INFO: Opening in existing instance\n"
     ]
    }
   ],
   "source": [
    "n = 100000\n",
    "zipped = list(zip(x[0:n], y[0:n], z[0:n] ,t[0:n]))\n",
    "df = pd.DataFrame(zipped, columns=['x', 'y', 'z', 't'])\n",
    "fig = px.scatter_3d(df, x='x', y='y', z='z',\n",
    "                    color='t')\n",
    "fig.update_traces(marker_size = 3)\n",
    "fig.show()\n"
   ]
  },
  {
   "cell_type": "code",
   "execution_count": 39,
   "id": "498cf790",
   "metadata": {},
   "outputs": [
    {
     "name": "stderr",
     "output_type": "stream",
     "text": [
      "11:43:49 INFO: Opening in existing instance\n"
     ]
    }
   ],
   "source": [
    "fig"
   ]
  },
  {
   "cell_type": "code",
   "execution_count": 48,
   "id": "cc9bbcce",
   "metadata": {},
   "outputs": [
    {
     "data": {
      "text/plain": [
       "(array([161567., 437589., 249999., 129178.,  75210.,  50593.,  38871.,\n",
       "         32487.,  29182.,  27269.,  26083.,  24777.,  24409.,  23769.,\n",
       "         23408.,  22973.,  22686.,  22066.,  22137.,  21573.,  21327.,\n",
       "         21014.,  20974.,  20601.,  20141.,  19948.,  19649.,  19464.,\n",
       "         19311.,  19157.,  18730.,  18615.,  18243.,  18079.,  17854.,\n",
       "         17450.,  17120.,  16897.,  16899.,  16596.,  16349.,  16052.,\n",
       "         15937.,  15768.,  15404.,  15296.,  14919.,  15046.,  14441.,\n",
       "         14664.,  14342.,  14118.,  14123.,  14016.,  13490.,  13344.,\n",
       "         13365.,  13115.,  12996.,  12558.,  12701.,  12235.,  12387.,\n",
       "         12153.,  11975.,  11700.,  11562.,  11328.,  11412.,  11035.,\n",
       "         10941.,  10870.,  10612.,  10580.,  10441.,  10122.,  10142.,\n",
       "         10144.,   9934.,   9565.,   9572.,   9431.,   9244.,   9204.,\n",
       "          9042.,   9010.,   8856.,   8778.,   8525.,   8710.,   8273.,\n",
       "          8153.,   8238.,   8113.,   7856.,   7707.,   7892.,   7754.,\n",
       "          7650.,   7502.]),\n",
       " array([   0.,   20.,   40.,   60.,   80.,  100.,  120.,  140.,  160.,\n",
       "         180.,  200.,  220.,  240.,  260.,  280.,  300.,  320.,  340.,\n",
       "         360.,  380.,  400.,  420.,  440.,  460.,  480.,  500.,  520.,\n",
       "         540.,  560.,  580.,  600.,  620.,  640.,  660.,  680.,  700.,\n",
       "         720.,  740.,  760.,  780.,  800.,  820.,  840.,  860.,  880.,\n",
       "         900.,  920.,  940.,  960.,  980., 1000., 1020., 1040., 1060.,\n",
       "        1080., 1100., 1120., 1140., 1160., 1180., 1200., 1220., 1240.,\n",
       "        1260., 1280., 1300., 1320., 1340., 1360., 1380., 1400., 1420.,\n",
       "        1440., 1460., 1480., 1500., 1520., 1540., 1560., 1580., 1600.,\n",
       "        1620., 1640., 1660., 1680., 1700., 1720., 1740., 1760., 1780.,\n",
       "        1800., 1820., 1840., 1860., 1880., 1900., 1920., 1940., 1960.,\n",
       "        1980., 2000.]),\n",
       " <BarContainer object of 100 artists>)"
      ]
     },
     "execution_count": 48,
     "metadata": {},
     "output_type": "execute_result"
    },
    {
     "data": {
      "image/png": "[encoded data removed]",
      "text/plain": [
       "<Figure size 432x288 with 1 Axes>"
      ]
     },
     "metadata": {
      "needs_background": "light"
     },
     "output_type": "display_data"
    }
   ],
   "source": [
    "plt.hist(t, range=(0,2000), bins = 100)"
   ]
  },
  {
   "cell_type": "code",
   "execution_count": null,
   "id": "b0a35889",
   "metadata": {},
   "outputs": [],
   "source": []
  }
 ],
 "metadata": {
  "kernelspec": {
   "display_name": "Python 3 (ipykernel)",
   "language": "python",
   "name": "python3"
  },
  "language_info": {
   "codemirror_mode": {
    "name": "ipython",
    "version": 3
   },
   "file_extension": ".py",
   "mimetype": "text/x-python",
   "name": "python",
   "nbconvert_exporter": "python",
   "pygments_lexer": "ipython3",
   "version": "3.10.5"
  }
 },
 "nbformat": 4,
 "nbformat_minor": 5
}
